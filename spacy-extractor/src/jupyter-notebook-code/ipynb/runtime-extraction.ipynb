{
 "cells": [
  {
   "cell_type": "markdown",
   "metadata": {},
   "source": [
    "## Runtime extraction of PAS tuples from a given extraction rule\n",
    "\n",
    "\n",
    "Sentence = `Full-mouth debridement is not payable on the same date of service as other prophylactic or preventive procedures.`\n",
    "\n",
    "```\n",
    "{'rule_id': -1930383187189869905,\n",
    " 'semgrex_pattern': [{'PATTERN': {'DEP': 'ROOT'},\n",
    "                      'SPEC': {'NODE_NAME': 'node1'}},\n",
    "                     {'PATTERN': {'DEP': 'nsubj'},\n",
    "                      'SPEC': {'NBOR_NAME': 'node1',\n",
    "                               'NBOR_RELOP': '>',\n",
    "                               'NODE_NAME': 'node0'}},\n",
    "                     {'PATTERN': {'DEP': 'pobj'},\n",
    "                      'SPEC': {'NBOR_NAME': 'node0',\n",
    "                               'NBOR_RELOP': '$--',\n",
    "                               'NODE_NAME': 'node2'}},\n",
    "                     {'PATTERN': {'DEP': 'prep'},\n",
    "                      'SPEC': {'NBOR_NAME': 'node2',\n",
    "                               'NBOR_RELOP': '>',\n",
    "                               'NODE_NAME': 'node3'}}],\n",
    " 'sentence': 'Full-mouth debridement is not payable on the same date of '\n",
    "             'services as other prophylactic or preventive procedures.',\n",
    " 'slotting_rule': {'comp': [],\n",
    "                   'cord': [],\n",
    "                   'obj': {'dep': 'pobj', 'pos': 'NOUN', 'tag': 'NN'},\n",
    "                   'pred': {'dep': 'ROOT', 'pos': 'AUX', 'tag': 'VBZ'},\n",
    "                   'prep': [],\n",
    "                   'prep_adv': [],\n",
    "                   'subj': {'dep': 'nsubj', 'pos': 'ADJ', 'tag': 'JJ'}},\n",
    " 'tuple': {'comp': 'NA',\n",
    "           'cord': 'NA',\n",
    "           'obj': 'NA',\n",
    "           'pred': 4,\n",
    "           'prep': 'NA',\n",
    "           'prep_adv': 'NA',\n",
    "           'subj': 0}}\n",
    "```"
   ]
  },
  {
   "cell_type": "code",
   "execution_count": 1,
   "metadata": {},
   "outputs": [],
   "source": [
    "import spacy\n",
    "from spacy.matcher import Matcher\n",
    "from spacy import displacy\n",
    "from spacy_pattern_builder import build_dependency_pattern\n",
    "from spacy_pattern_builder import util\n",
    "from spacy.matcher import DependencyMatcher\n",
    "from pprint import pprint\n",
    "from pprint import PrettyPrinter"
   ]
  },
  {
   "cell_type": "code",
   "execution_count": 2,
   "metadata": {},
   "outputs": [],
   "source": [
    "#Domain specific Retokenizer\n",
    "sentence=\"Full-mouth debridement is not payable on the same date of service as other prophylactic or preventive procedures.\"\n",
    "nlp = spacy.load('en_core_web_sm')\n",
    "doc=nlp(sentence)\n",
    "with doc.retokenize() as retokenizer:\n",
    "        #For purposes of this sample code,\n",
    "        #Retokenization is done here based on known index ranges\n",
    "        #In real application, a call is made to domain-specific-retokenization module\n",
    "        retokenizer.merge(doc[0:4])#Full-mouth debridement\n",
    "        retokenizer.merge(doc[8:11])#the same date\n",
    "        retokenizer.merge(doc[17:19])#preventive procedures\n",
    "        retokenizer.merge(doc[4:8])#is not payable\n"
   ]
  },
  {
   "cell_type": "code",
   "execution_count": 3,
   "metadata": {},
   "outputs": [],
   "source": [
    "\"\"\"\n",
    "This method is used to \n",
    "1. Extract tokens using linguistic semgrex patterns\n",
    "2. Apply sytactic labels to extracted tokens using slotting rules\n",
    "\"\"\"\n",
    "def extract_pas_tuples(doc, extraction_rule):\n",
    "    matcher = DependencyMatcher(doc.vocab)\n",
    "    pattern = extraction_rule['semgrex_pattern']\n",
    "    matcher.add('pattern', None, pattern)\n",
    "    matches = matcher(doc)\n",
    "    pas_elements = dict()\n",
    "    pas_elements['subj'] = None\n",
    "    pas_elements['pred'] = None\n",
    "    pas_elements['obj'] = None\n",
    "\n",
    "    subtrees = []\n",
    "    for _, trees in matches:\n",
    "        for subtree in trees:\n",
    "            subtrees.append(subtree)\n",
    "\n",
    "    for tree in subtrees:\n",
    "        for t in tree:\n",
    "            token = doc[t]\n",
    "            if token.dep_ in extraction_rule['slotting_rule']['subj']['dep']: pas_elements['subj'] = token\n",
    "            if token.dep_ in extraction_rule['slotting_rule']['pred']['dep']: pas_elements['pred'] = token\n",
    "            if token.dep_ in extraction_rule['slotting_rule']['obj']['dep']: pas_elements['obj'] = token \n",
    "    return pas_elements"
   ]
  },
  {
   "cell_type": "markdown",
   "metadata": {},
   "source": [
    "### Extract tuple using extraction rule"
   ]
  },
  {
   "cell_type": "code",
   "execution_count": 4,
   "metadata": {},
   "outputs": [],
   "source": [
    "#For the purpose of sample code, this is being hardcoded here. Normally this rule-set is retrieved from a database.\n",
    "extraction_rule = {\"sentence\": \"Full-mouth debridement is not payable on the same date of service as other prophylactic or preventive procedures.\", \"tuple\": {\"subj\": 0, \"pred\": 4, \"obj\": \"NA\", \"comp\": \"NA\", \"prep_adv\": \"NA\", \"cord\": \"NA\", \"prep\": \"NA\"}, \"rule_id\": -1930383187189869905, \"semgrex_pattern\": [{'SPEC': {'NODE_NAME': 'node1'}, 'PATTERN': {'DEP': 'ROOT'}}, {'SPEC': {'NODE_NAME': 'node0', 'NBOR_NAME': 'node1', 'NBOR_RELOP': '>'}, 'PATTERN': {'DEP': 'nsubj'}}, {'SPEC': {'NODE_NAME': 'node2', 'NBOR_NAME': 'node0', 'NBOR_RELOP': '$--'}, 'PATTERN': {'DEP': 'pobj'}}, {'SPEC': {'NODE_NAME': 'node3', 'NBOR_NAME': 'node2', 'NBOR_RELOP': '>'}, 'PATTERN': {'DEP': 'prep'}}], \"slotting_rule\": {\"pred\": {\"dep\": \"ROOT\", \"pos\": \"AUX\", \"tag\": \"VBZ\"}, \"subj\": {\"dep\": \"nsubj\", \"pos\": \"ADJ\", \"tag\": \"JJ\"}, \"obj\": {\"dep\": \"pobj\", \"pos\": \"NOUN\", \"tag\": \"NN\"}, \"prep\": [], \"comp\": [], \"cord\": [], \"prep_adv\": []}}\n",
    "extracted_pas_tuple = extract_pas_tuples(doc,extraction_rule)"
   ]
  },
  {
   "cell_type": "code",
   "execution_count": 5,
   "metadata": {},
   "outputs": [
    {
     "name": "stdout",
     "output_type": "stream",
     "text": [
      "Extracted PAS tuples are: \n",
      "{'obj': the same date,\n",
      " 'pred': is not payable on,\n",
      " 'subj': Full-mouth debridement}\n"
     ]
    }
   ],
   "source": [
    "print(\"Extracted PAS tuples are: \")\n",
    "pprint(extracted_pas_tuple)"
   ]
  }
 ],
 "metadata": {
  "kernelspec": {
   "display_name": "pke-spacy-2.2.4",
   "language": "python",
   "name": "pke-spacy-2.2.4"
  },
  "language_info": {
   "codemirror_mode": {
    "name": "ipython",
    "version": 3
   },
   "file_extension": ".py",
   "mimetype": "text/x-python",
   "name": "python",
   "nbconvert_exporter": "python",
   "pygments_lexer": "ipython3",
   "version": "3.7.4"
  }
 },
 "nbformat": 4,
 "nbformat_minor": 4
}
