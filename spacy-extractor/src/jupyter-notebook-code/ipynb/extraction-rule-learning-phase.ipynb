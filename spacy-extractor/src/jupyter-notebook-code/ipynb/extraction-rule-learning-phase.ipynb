{
 "cells": [
  {
   "cell_type": "markdown",
   "metadata": {},
   "source": [
    "# Rule Extraction from annotated examples\n",
    "\n",
    "\n",
    "\n",
    "### Example Ground Truth for learning extraction rules\n",
    "\n",
    "### Ideal PAS tuple: \n",
    "```\n",
    "Sentence: Full-mouth debridement is not payable on the same date of services as other prophylactic or preventive procedures.\n",
    "Compounds found in ontology are: ['the same date', 'Full-mouth debridement', 'preventive procedures', 'is not payable']\n",
    "Sytactic Roles: subj,pred,obj,comp,prep_adv,cord,prep\n",
    "Ideal Tuples: Full-mouth debridement,payable,the same date,services,not,NA,NA\n",
    "```"
   ]
  },
  {
   "cell_type": "code",
   "execution_count": 1,
   "metadata": {},
   "outputs": [],
   "source": [
    "import spacy\n",
    "from spacy.matcher import Matcher\n",
    "from spacy import displacy\n",
    "from spacy_pattern_builder import build_dependency_pattern\n",
    "from spacy_pattern_builder import util\n",
    "from spacy.matcher import DependencyMatcher\n",
    "from pprint import pprint\n",
    "from pprint import PrettyPrinter"
   ]
  },
  {
   "cell_type": "code",
   "execution_count": 2,
   "metadata": {},
   "outputs": [],
   "source": [
    "sentence=\"Full-mouth debridement is not payable on the same date of service as other prophylactic or preventive procedures.\"\n",
    "nlp = spacy.load('en_core_web_sm')\n",
    "doc=nlp(sentence)\n",
    "with doc.retokenize() as retokenizer:\n",
    "        #For purposes of this sample code,\n",
    "        #Retokenization is done here based on known index ranges\n",
    "        #In real application, a call is made to domain-specific-retokenization module\n",
    "        retokenizer.merge(doc[0:4])#Full-mouth debridement\n",
    "        retokenizer.merge(doc[8:11])#the same date\n",
    "        retokenizer.merge(doc[17:19])#preventive procedures\n",
    "        retokenizer.merge(doc[4:8])#is not payable\n"
   ]
  },
  {
   "cell_type": "code",
   "execution_count": 3,
   "metadata": {
    "scrolled": true
   },
   "outputs": [
    {
     "data": {
      "text/html": [
       "<span class=\"tex2jax_ignore\"><svg xmlns=\"http://www.w3.org/2000/svg\" xmlns:xlink=\"http://www.w3.org/1999/xlink\" xml:lang=\"en\" id=\"08f55d976ade4c0fbf16b3ed8bb752ca-0\" class=\"displacy\" width=\"1450\" height=\"417.0\" direction=\"ltr\" style=\"max-width: none; height: 417.0px; color: #000000; background: #ffffff; font-family: Arial; direction: ltr\">\n",
       "<text class=\"displacy-token\" fill=\"currentColor\" text-anchor=\"middle\" y=\"327.0\">\n",
       "    <tspan class=\"displacy-word\" fill=\"currentColor\" x=\"50\">Full-mouth debridement</tspan>\n",
       "    <tspan class=\"displacy-tag\" dy=\"2em\" fill=\"currentColor\" x=\"50\">NOUN</tspan>\n",
       "</text>\n",
       "\n",
       "<text class=\"displacy-token\" fill=\"currentColor\" text-anchor=\"middle\" y=\"327.0\">\n",
       "    <tspan class=\"displacy-word\" fill=\"currentColor\" x=\"190\">is not payable on</tspan>\n",
       "    <tspan class=\"displacy-tag\" dy=\"2em\" fill=\"currentColor\" x=\"190\">AUX</tspan>\n",
       "</text>\n",
       "\n",
       "<text class=\"displacy-token\" fill=\"currentColor\" text-anchor=\"middle\" y=\"327.0\">\n",
       "    <tspan class=\"displacy-word\" fill=\"currentColor\" x=\"330\">the same date</tspan>\n",
       "    <tspan class=\"displacy-tag\" dy=\"2em\" fill=\"currentColor\" x=\"330\">NOUN</tspan>\n",
       "</text>\n",
       "\n",
       "<text class=\"displacy-token\" fill=\"currentColor\" text-anchor=\"middle\" y=\"327.0\">\n",
       "    <tspan class=\"displacy-word\" fill=\"currentColor\" x=\"470\">of</tspan>\n",
       "    <tspan class=\"displacy-tag\" dy=\"2em\" fill=\"currentColor\" x=\"470\">ADP</tspan>\n",
       "</text>\n",
       "\n",
       "<text class=\"displacy-token\" fill=\"currentColor\" text-anchor=\"middle\" y=\"327.0\">\n",
       "    <tspan class=\"displacy-word\" fill=\"currentColor\" x=\"610\">service</tspan>\n",
       "    <tspan class=\"displacy-tag\" dy=\"2em\" fill=\"currentColor\" x=\"610\">NOUN</tspan>\n",
       "</text>\n",
       "\n",
       "<text class=\"displacy-token\" fill=\"currentColor\" text-anchor=\"middle\" y=\"327.0\">\n",
       "    <tspan class=\"displacy-word\" fill=\"currentColor\" x=\"750\">as</tspan>\n",
       "    <tspan class=\"displacy-tag\" dy=\"2em\" fill=\"currentColor\" x=\"750\">SCONJ</tspan>\n",
       "</text>\n",
       "\n",
       "<text class=\"displacy-token\" fill=\"currentColor\" text-anchor=\"middle\" y=\"327.0\">\n",
       "    <tspan class=\"displacy-word\" fill=\"currentColor\" x=\"890\">other</tspan>\n",
       "    <tspan class=\"displacy-tag\" dy=\"2em\" fill=\"currentColor\" x=\"890\">ADJ</tspan>\n",
       "</text>\n",
       "\n",
       "<text class=\"displacy-token\" fill=\"currentColor\" text-anchor=\"middle\" y=\"327.0\">\n",
       "    <tspan class=\"displacy-word\" fill=\"currentColor\" x=\"1030\">prophylactic</tspan>\n",
       "    <tspan class=\"displacy-tag\" dy=\"2em\" fill=\"currentColor\" x=\"1030\">ADJ</tspan>\n",
       "</text>\n",
       "\n",
       "<text class=\"displacy-token\" fill=\"currentColor\" text-anchor=\"middle\" y=\"327.0\">\n",
       "    <tspan class=\"displacy-word\" fill=\"currentColor\" x=\"1170\">or</tspan>\n",
       "    <tspan class=\"displacy-tag\" dy=\"2em\" fill=\"currentColor\" x=\"1170\">CCONJ</tspan>\n",
       "</text>\n",
       "\n",
       "<text class=\"displacy-token\" fill=\"currentColor\" text-anchor=\"middle\" y=\"327.0\">\n",
       "    <tspan class=\"displacy-word\" fill=\"currentColor\" x=\"1310\">preventive procedures.</tspan>\n",
       "    <tspan class=\"displacy-tag\" dy=\"2em\" fill=\"currentColor\" x=\"1310\">NOUN</tspan>\n",
       "</text>\n",
       "\n",
       "<g class=\"displacy-arrow\">\n",
       "    <path class=\"displacy-arc\" id=\"arrow-08f55d976ade4c0fbf16b3ed8bb752ca-0-0\" stroke-width=\"2px\" d=\"M70,282.0 C70,212.0 175.0,212.0 175.0,282.0\" fill=\"none\" stroke=\"currentColor\"/>\n",
       "    <text dy=\"1.25em\" style=\"font-size: 0.8em; letter-spacing: 1px\">\n",
       "        <textPath xlink:href=\"#arrow-08f55d976ade4c0fbf16b3ed8bb752ca-0-0\" class=\"displacy-label\" startOffset=\"50%\" side=\"left\" fill=\"currentColor\" text-anchor=\"middle\">nsubj</textPath>\n",
       "    </text>\n",
       "    <path class=\"displacy-arrowhead\" d=\"M70,284.0 L62,272.0 78,272.0\" fill=\"currentColor\"/>\n",
       "</g>\n",
       "\n",
       "<g class=\"displacy-arrow\">\n",
       "    <path class=\"displacy-arc\" id=\"arrow-08f55d976ade4c0fbf16b3ed8bb752ca-0-1\" stroke-width=\"2px\" d=\"M210,282.0 C210,212.0 315.0,212.0 315.0,282.0\" fill=\"none\" stroke=\"currentColor\"/>\n",
       "    <text dy=\"1.25em\" style=\"font-size: 0.8em; letter-spacing: 1px\">\n",
       "        <textPath xlink:href=\"#arrow-08f55d976ade4c0fbf16b3ed8bb752ca-0-1\" class=\"displacy-label\" startOffset=\"50%\" side=\"left\" fill=\"currentColor\" text-anchor=\"middle\">pobj</textPath>\n",
       "    </text>\n",
       "    <path class=\"displacy-arrowhead\" d=\"M315.0,284.0 L323.0,272.0 307.0,272.0\" fill=\"currentColor\"/>\n",
       "</g>\n",
       "\n",
       "<g class=\"displacy-arrow\">\n",
       "    <path class=\"displacy-arc\" id=\"arrow-08f55d976ade4c0fbf16b3ed8bb752ca-0-2\" stroke-width=\"2px\" d=\"M350,282.0 C350,212.0 455.0,212.0 455.0,282.0\" fill=\"none\" stroke=\"currentColor\"/>\n",
       "    <text dy=\"1.25em\" style=\"font-size: 0.8em; letter-spacing: 1px\">\n",
       "        <textPath xlink:href=\"#arrow-08f55d976ade4c0fbf16b3ed8bb752ca-0-2\" class=\"displacy-label\" startOffset=\"50%\" side=\"left\" fill=\"currentColor\" text-anchor=\"middle\">prep</textPath>\n",
       "    </text>\n",
       "    <path class=\"displacy-arrowhead\" d=\"M455.0,284.0 L463.0,272.0 447.0,272.0\" fill=\"currentColor\"/>\n",
       "</g>\n",
       "\n",
       "<g class=\"displacy-arrow\">\n",
       "    <path class=\"displacy-arc\" id=\"arrow-08f55d976ade4c0fbf16b3ed8bb752ca-0-3\" stroke-width=\"2px\" d=\"M490,282.0 C490,212.0 595.0,212.0 595.0,282.0\" fill=\"none\" stroke=\"currentColor\"/>\n",
       "    <text dy=\"1.25em\" style=\"font-size: 0.8em; letter-spacing: 1px\">\n",
       "        <textPath xlink:href=\"#arrow-08f55d976ade4c0fbf16b3ed8bb752ca-0-3\" class=\"displacy-label\" startOffset=\"50%\" side=\"left\" fill=\"currentColor\" text-anchor=\"middle\">pobj</textPath>\n",
       "    </text>\n",
       "    <path class=\"displacy-arrowhead\" d=\"M595.0,284.0 L603.0,272.0 587.0,272.0\" fill=\"currentColor\"/>\n",
       "</g>\n",
       "\n",
       "<g class=\"displacy-arrow\">\n",
       "    <path class=\"displacy-arc\" id=\"arrow-08f55d976ade4c0fbf16b3ed8bb752ca-0-4\" stroke-width=\"2px\" d=\"M350,282.0 C350,72.0 745.0,72.0 745.0,282.0\" fill=\"none\" stroke=\"currentColor\"/>\n",
       "    <text dy=\"1.25em\" style=\"font-size: 0.8em; letter-spacing: 1px\">\n",
       "        <textPath xlink:href=\"#arrow-08f55d976ade4c0fbf16b3ed8bb752ca-0-4\" class=\"displacy-label\" startOffset=\"50%\" side=\"left\" fill=\"currentColor\" text-anchor=\"middle\">prep</textPath>\n",
       "    </text>\n",
       "    <path class=\"displacy-arrowhead\" d=\"M745.0,284.0 L753.0,272.0 737.0,272.0\" fill=\"currentColor\"/>\n",
       "</g>\n",
       "\n",
       "<g class=\"displacy-arrow\">\n",
       "    <path class=\"displacy-arc\" id=\"arrow-08f55d976ade4c0fbf16b3ed8bb752ca-0-5\" stroke-width=\"2px\" d=\"M910,282.0 C910,72.0 1305.0,72.0 1305.0,282.0\" fill=\"none\" stroke=\"currentColor\"/>\n",
       "    <text dy=\"1.25em\" style=\"font-size: 0.8em; letter-spacing: 1px\">\n",
       "        <textPath xlink:href=\"#arrow-08f55d976ade4c0fbf16b3ed8bb752ca-0-5\" class=\"displacy-label\" startOffset=\"50%\" side=\"left\" fill=\"currentColor\" text-anchor=\"middle\">amod</textPath>\n",
       "    </text>\n",
       "    <path class=\"displacy-arrowhead\" d=\"M910,284.0 L902,272.0 918,272.0\" fill=\"currentColor\"/>\n",
       "</g>\n",
       "\n",
       "<g class=\"displacy-arrow\">\n",
       "    <path class=\"displacy-arc\" id=\"arrow-08f55d976ade4c0fbf16b3ed8bb752ca-0-6\" stroke-width=\"2px\" d=\"M1050,282.0 C1050,142.0 1300.0,142.0 1300.0,282.0\" fill=\"none\" stroke=\"currentColor\"/>\n",
       "    <text dy=\"1.25em\" style=\"font-size: 0.8em; letter-spacing: 1px\">\n",
       "        <textPath xlink:href=\"#arrow-08f55d976ade4c0fbf16b3ed8bb752ca-0-6\" class=\"displacy-label\" startOffset=\"50%\" side=\"left\" fill=\"currentColor\" text-anchor=\"middle\">amod</textPath>\n",
       "    </text>\n",
       "    <path class=\"displacy-arrowhead\" d=\"M1050,284.0 L1042,272.0 1058,272.0\" fill=\"currentColor\"/>\n",
       "</g>\n",
       "\n",
       "<g class=\"displacy-arrow\">\n",
       "    <path class=\"displacy-arc\" id=\"arrow-08f55d976ade4c0fbf16b3ed8bb752ca-0-7\" stroke-width=\"2px\" d=\"M1050,282.0 C1050,212.0 1155.0,212.0 1155.0,282.0\" fill=\"none\" stroke=\"currentColor\"/>\n",
       "    <text dy=\"1.25em\" style=\"font-size: 0.8em; letter-spacing: 1px\">\n",
       "        <textPath xlink:href=\"#arrow-08f55d976ade4c0fbf16b3ed8bb752ca-0-7\" class=\"displacy-label\" startOffset=\"50%\" side=\"left\" fill=\"currentColor\" text-anchor=\"middle\">cc</textPath>\n",
       "    </text>\n",
       "    <path class=\"displacy-arrowhead\" d=\"M1155.0,284.0 L1163.0,272.0 1147.0,272.0\" fill=\"currentColor\"/>\n",
       "</g>\n",
       "\n",
       "<g class=\"displacy-arrow\">\n",
       "    <path class=\"displacy-arc\" id=\"arrow-08f55d976ade4c0fbf16b3ed8bb752ca-0-8\" stroke-width=\"2px\" d=\"M770,282.0 C770,2.0 1310.0,2.0 1310.0,282.0\" fill=\"none\" stroke=\"currentColor\"/>\n",
       "    <text dy=\"1.25em\" style=\"font-size: 0.8em; letter-spacing: 1px\">\n",
       "        <textPath xlink:href=\"#arrow-08f55d976ade4c0fbf16b3ed8bb752ca-0-8\" class=\"displacy-label\" startOffset=\"50%\" side=\"left\" fill=\"currentColor\" text-anchor=\"middle\">pobj</textPath>\n",
       "    </text>\n",
       "    <path class=\"displacy-arrowhead\" d=\"M1310.0,284.0 L1318.0,272.0 1302.0,272.0\" fill=\"currentColor\"/>\n",
       "</g>\n",
       "</svg></span>"
      ],
      "text/plain": [
       "<IPython.core.display.HTML object>"
      ]
     },
     "metadata": {},
     "output_type": "display_data"
    }
   ],
   "source": [
    "\n",
    "displacy.render(doc, style=\"dep\", options={\"distance\": 140}, jupyter=True)"
   ]
  },
  {
   "cell_type": "code",
   "execution_count": 4,
   "metadata": {},
   "outputs": [],
   "source": [
    "def extract_matches_from_sentence(doc,token_indices):\n",
    "    #Extract Pattern using Spacy Pattern builder\n",
    "    match_tokens = [doc[i] for i in token_indices]  \n",
    "    feature_dict = {\n",
    "        'DEP': 'dep_'\n",
    "    }\n",
    "    pattern = build_dependency_pattern(doc, match_tokens, feature_dict=feature_dict)\n",
    "    return pattern"
   ]
  },
  {
   "cell_type": "code",
   "execution_count": 5,
   "metadata": {},
   "outputs": [],
   "source": [
    "#Extract Semgrex pattern for <Full-mouth debridement,is not payable,the same date,services>\n",
    "token_indices = [0,1,2,3,4]# These tokens represent the SDP covering the desired set of tokens.\n",
    "linguistic_pattern = extract_matches_from_sentence(doc,token_indices)"
   ]
  },
  {
   "cell_type": "code",
   "execution_count": 6,
   "metadata": {},
   "outputs": [
    {
     "name": "stdout",
     "output_type": "stream",
     "text": [
      "Semgrex pattern characterizing the subtree is: \n",
      "[{'SPEC': {'NODE_NAME': 'node1'}, 'PATTERN': {'DEP': 'ROOT'}}, {'SPEC': {'NODE_NAME': 'node0', 'NBOR_NAME': 'node1', 'NBOR_RELOP': '>'}, 'PATTERN': {'DEP': 'nsubj'}}, {'SPEC': {'NODE_NAME': 'node2', 'NBOR_NAME': 'node0', 'NBOR_RELOP': '$--'}, 'PATTERN': {'DEP': 'pobj'}}, {'SPEC': {'NODE_NAME': 'node3', 'NBOR_NAME': 'node2', 'NBOR_RELOP': '>'}, 'PATTERN': {'DEP': 'prep'}}, {'SPEC': {'NODE_NAME': 'node4', 'NBOR_NAME': 'node3', 'NBOR_RELOP': '>'}, 'PATTERN': {'DEP': 'pobj'}}]\n"
     ]
    }
   ],
   "source": [
    "print(\"Semgrex pattern characterizing the subtree is: \")\n",
    "print(linguistic_pattern)"
   ]
  },
  {
   "cell_type": "code",
   "execution_count": 7,
   "metadata": {},
   "outputs": [],
   "source": [
    "#Slotting rules are then constructed from original example.\n",
    "#We know from annotated example that \"full-mouth debriment\" has the sytactic label = \"subj\" in our application.\n",
    "#Thus slotting rule is appeneded to the above linguistic pattern.\n",
    "#The final extraction rule looks like:\n",
    "extraction_rule = {\"sentence\": \"Full-mouth debridement is not payable on the same date of services as other prophylactic or preventive procedures.\", \"tuple\": {\"subj\": 0, \"pred\": 4, \"obj\": \"NA\", \"comp\": \"NA\", \"prep_adv\": \"NA\", \"cord\": \"NA\", \"prep\": \"NA\"}, \"rule_id\": -1930383187189869905, \"semgrex_pattern\": [{\"SPEC\": {\"NODE_NAME\": \"node4\"}, \"PATTERN\": {\"DEP\": \"ROOT\"}}, {\"SPEC\": {\"NODE_NAME\": \"node3\", \"NBOR_NAME\": \"node4\", \"NBOR_RELOP\": \">\"}, \"PATTERN\": {\"DEP\": \"nsubj\"}}, {\"SPEC\": {\"NODE_NAME\": \"node2\", \"NBOR_NAME\": \"node3\", \"NBOR_RELOP\": \">\"}, \"PATTERN\": {\"DEP\": \"compound\"}}, {\"SPEC\": {\"NODE_NAME\": \"node0\", \"NBOR_NAME\": \"node2\", \"NBOR_RELOP\": \">\"}, \"PATTERN\": {\"DEP\": \"amod\"}}], \"slotting_rule\": {\"pred\": {\"dep\": \"ROOT\", \"pos\": \"AUX\", \"tag\": \"VBZ\"}, \"subj\": {\"dep\": \"amod\", \"pos\": \"ADJ\", \"tag\": \"JJ\"}, \"obj\": [], \"prep\": [], \"comp\": [], \"cord\": [], \"prep_adv\": []}}"
   ]
  },
  {
   "cell_type": "code",
   "execution_count": 8,
   "metadata": {},
   "outputs": [
    {
     "name": "stdout",
     "output_type": "stream",
     "text": [
      "{'rule_id': -1930383187189869905,\n",
      " 'semgrex_pattern': [{'PATTERN': {'DEP': 'ROOT'},\n",
      "                      'SPEC': {'NODE_NAME': 'node4'}},\n",
      "                     {'PATTERN': {'DEP': 'nsubj'},\n",
      "                      'SPEC': {'NBOR_NAME': 'node4',\n",
      "                               'NBOR_RELOP': '>',\n",
      "                               'NODE_NAME': 'node3'}},\n",
      "                     {'PATTERN': {'DEP': 'compound'},\n",
      "                      'SPEC': {'NBOR_NAME': 'node3',\n",
      "                               'NBOR_RELOP': '>',\n",
      "                               'NODE_NAME': 'node2'}},\n",
      "                     {'PATTERN': {'DEP': 'amod'},\n",
      "                      'SPEC': {'NBOR_NAME': 'node2',\n",
      "                               'NBOR_RELOP': '>',\n",
      "                               'NODE_NAME': 'node0'}}],\n",
      " 'sentence': 'Full-mouth debridement is not payable on the same date of '\n",
      "             'services as other prophylactic or preventive procedures.',\n",
      " 'slotting_rule': {'comp': [],\n",
      "                   'cord': [],\n",
      "                   'obj': [],\n",
      "                   'pred': {'dep': 'ROOT', 'pos': 'AUX', 'tag': 'VBZ'},\n",
      "                   'prep': [],\n",
      "                   'prep_adv': [],\n",
      "                   'subj': {'dep': 'amod', 'pos': 'ADJ', 'tag': 'JJ'}},\n",
      " 'tuple': {'comp': 'NA',\n",
      "           'cord': 'NA',\n",
      "           'obj': 'NA',\n",
      "           'pred': 4,\n",
      "           'prep': 'NA',\n",
      "           'prep_adv': 'NA',\n",
      "           'subj': 0}}\n"
     ]
    }
   ],
   "source": [
    "pprint(extraction_rule)"
   ]
  },
  {
   "cell_type": "code",
   "execution_count": null,
   "metadata": {},
   "outputs": [],
   "source": []
  }
 ],
 "metadata": {
  "kernelspec": {
   "display_name": "pke-spacy-2.2.4",
   "language": "python",
   "name": "pke-spacy-2.2.4"
  },
  "language_info": {
   "codemirror_mode": {
    "name": "ipython",
    "version": 3
   },
   "file_extension": ".py",
   "mimetype": "text/x-python",
   "name": "python",
   "nbconvert_exporter": "python",
   "pygments_lexer": "ipython3",
   "version": "3.7.4"
  }
 },
 "nbformat": 4,
 "nbformat_minor": 4
}
